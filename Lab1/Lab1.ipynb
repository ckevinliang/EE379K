{
 "cells": [
  {
   "cell_type": "code",
   "execution_count": 40,
   "metadata": {
    "collapsed": true
   },
   "outputs": [],
   "source": [
    "import numpy as np\n",
    "import pandas as pd\n",
    "import sklearn as sk\n",
    "import matplotlib.pyplot as plt"
   ]
  },
  {
   "cell_type": "code",
   "execution_count": 41,
   "metadata": {
    "scrolled": true
   },
   "outputs": [
    {
     "data": {
      "image/png": "[encoded data removed]",
      "text/plain": [
       "<matplotlib.figure.Figure at 0xef29b00>"
      ]
     },
     "metadata": {},
     "output_type": "display_data"
    },
    {
     "name": "stdout",
     "output_type": "stream",
     "text": [
      "-0.135615117744 48.9677406702\n"
     ]
    }
   ],
   "source": [
    "#problem 1\n",
    "\n",
    "#a\n",
    "a = np.random.normal(-10,5,1000)\n",
    "b = np.random.normal(10,5,1000)\n",
    "\n",
    "c = a + b\n",
    "plt.title('Problem 1')\n",
    "plt.hist(c,bins = 30)\n",
    "plt.show()\n",
    "\n",
    "#OBSERVATIONS: The mean of the summed distributions is the sum of the mean's of the individual distributions.\n",
    "\n",
    "#b\n",
    "mean = np.mean(c)\n",
    "var = np.var(c)\n",
    "\n",
    "print mean, var\n",
    "\n"
   ]
  },
  {
   "cell_type": "code",
   "execution_count": 42,
   "metadata": {},
   "outputs": [
    {
     "data": {
      "image/png": "[encoded data removed]",
      "text/plain": [
       "<matplotlib.figure.Figure at 0xde0b240>"
      ]
     },
     "metadata": {},
     "output_type": "display_data"
    },
    {
     "data": {
      "image/png": "[encoded data removed]",
      "text/plain": [
       "<matplotlib.figure.Figure at 0xd53c9b0>"
      ]
     },
     "metadata": {},
     "output_type": "display_data"
    }
   ],
   "source": [
    "#problem 2\n",
    "\n",
    "# n = 5\n",
    "samples = []\n",
    "for _ in range(1000):\n",
    "    a = np.random.choice([-1,1], 5)\n",
    "    samples.append(float(np.sum(a))/5)\n",
    "\n",
    "plt.hist(samples, bins=20)\n",
    "plt.show()\n",
    "\n",
    "# n = 250\n",
    "samples = []\n",
    "for _ in range(1000):\n",
    "    a = np.random.choice([-1,1], 250)\n",
    "    samples.append(float(np.sum(a))/250)\n",
    "\n",
    "plt.hist(samples, bins = 25)\n",
    "plt.show()"
   ]
  },
  {
   "cell_type": "code",
   "execution_count": 43,
   "metadata": {},
   "outputs": [
    {
     "name": "stdout",
     "output_type": "stream",
     "text": [
      "-0.01086125898\n",
      "4.95886316812\n"
     ]
    }
   ],
   "source": [
    "#problem 3\n",
    "a = np.random.normal(0,5, 25000)\n",
    "\n",
    "#mean\n",
    "sum = 0\n",
    "for x in range(25000):\n",
    "    sum += a[x]\n",
    "\n",
    "mean = float(sum) / 25000\n",
    "print(mean)\n",
    "\n",
    "#std\n",
    "sum = 0\n",
    "for x in range(25000):\n",
    "    sum += (a[x] - mean)**2\n",
    "\n",
    "var = float(sum) / 24999\n",
    "print(np.sqrt(var))"
   ]
  },
  {
   "cell_type": "code",
   "execution_count": 44,
   "metadata": {},
   "outputs": [
    {
     "name": "stdout",
     "output_type": "stream",
     "text": [
      "[-5.056728907224839, 5.006012713910399] [[20.15234741423759, 0.67034424725180775], [0.67034424725180775, 30.482515625084833]]\n"
     ]
    }
   ],
   "source": [
    "#problem 4\n",
    "\n",
    "a = np.random.multivariate_normal([-5,5], [[20,.8],[.8,30]], 10000)\n",
    "\n",
    "#mean\n",
    "sumx = 0\n",
    "sumy = 0\n",
    "\n",
    "for x in a:\n",
    "    sumx += x[0]\n",
    "    sumy += x[1]\n",
    "\n",
    "meanx = float(sumx)/len(a)\n",
    "meany = float(sumy)/len(a)\n",
    "mean = [meanx, meany]\n",
    "\n",
    "#covariance\n",
    "summ = 0\n",
    "\n",
    "#variance\n",
    "varx = 0\n",
    "vary = 0\n",
    "\n",
    "for x in a:\n",
    "    summ += (x[0] - meanx)*(x[1] - meany)\n",
    "    varx += (x[0] - meanx)**2\n",
    "    vary += (x[1] - meany)**2\n",
    "    \n",
    "cov = summ/(9999)\n",
    "varx = float(varx)/9999\n",
    "vary = float(vary)/9999\n",
    "\n",
    "covariance = [[varx, cov], [cov,vary]]\n",
    "\n",
    "print mean, covariance\n"
   ]
  },
  {
   "cell_type": "code",
   "execution_count": 45,
   "metadata": {},
   "outputs": [
    {
     "name": "stdout",
     "output_type": "stream",
     "text": [
      "0.368875603887 0.323878728301 0.313982499379 90 4 92\n"
     ]
    }
   ],
   "source": [
    "#problem 5\n",
    "\n",
    "a = pd.read_csv(\"D:\\Kevin Liang\\Downloads\\PatientData.csv\")\n",
    "#a\n",
    "# 451 rows / 280 columns (451 patients / 280 features)\n",
    "\n",
    "#b\n",
    "\n",
    "#feature 1\n",
    "# age\n",
    "\n",
    "#feature 2\n",
    "# gender\n",
    "\n",
    "#feature 3\n",
    "# height in cm \n",
    "\n",
    "#feature 4\n",
    "# weight in kg\n",
    "\n",
    "#c\n",
    "dat = pd.read_csv(\"D:\\Kevin Liang\\Downloads\\PatientData.csv\", header = None, dtype=np.float64,na_values='?')\n",
    "data = dat.replace('?',np.nan)\n",
    "data.fillna(data.mean(),inplace = True)\n",
    "#print data\n",
    "\n",
    "#values not being replaced\n",
    "\n",
    "\n",
    "data.to_csv('5C.csv',sep=',')\n",
    "\n",
    "\n",
    "#d\n",
    "# you can test the correlation between each column and the patient condition\n",
    "# and identify which one has the the closest correlation value to 1\n",
    "\n",
    "# List 3 most import features\n",
    "corr_matrix = data.corr()\n",
    "max1 = 0\n",
    "max2 = 0\n",
    "max3 = 0\n",
    "mindex1 = 0\n",
    "mindex2 = 0\n",
    "mindex3 = 0\n",
    "\n",
    "for index,cor in enumerate(corr_matrix.iloc[:,-1]):\n",
    "    if cor > max1 and cor != 1:\n",
    "        max3 = max2\n",
    "        max2 = max1\n",
    "        max1 = cor\n",
    "        mindex3 = mindex2\n",
    "        mindex2 = mindex1\n",
    "        mindex1 = index\n",
    "    elif cor > max2 and cor != 1:\n",
    "        max3 = max2\n",
    "        max2 = cor\n",
    "        mindex3 = mindex2\n",
    "        mindex2 = index\n",
    "    elif cor > max3 and cor != 1:\n",
    "        max3 = cor\n",
    "        mindex3 = index\n",
    "print max1, max2, max3, mindex1, mindex2, mindex3"
   ]
  }
 ],
 "metadata": {
  "kernelspec": {
   "display_name": "Python 2",
   "language": "python",
   "name": "python2"
  },
  "language_info": {
   "codemirror_mode": {
    "name": "ipython",
    "version": 2
   },
   "file_extension": ".py",
   "mimetype": "text/x-python",
   "name": "python",
   "nbconvert_exporter": "python",
   "pygments_lexer": "ipython2",
   "version": "2.7.13"
  },
  "widgets": {
   "application/vnd.jupyter.widget-state+json": {
    "state": {},
    "version_major": 1,
    "version_minor": 0
   }
  }
 },
 "nbformat": 4,
 "nbformat_minor": 2
}
